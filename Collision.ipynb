{
 "cells": [
  {
   "cell_type": "code",
   "execution_count": 4,
   "metadata": {},
   "outputs": [],
   "source": [
    "from sympy import solve\n",
    "from sympy.abc import a, b, c, d, e, f, g, h, x, y"
   ]
  },
  {
   "cell_type": "code",
   "execution_count": 5,
   "metadata": {},
   "outputs": [],
   "source": [
    "a_time = x\n",
    "b_time = y\n",
    "ax_slope = a\n",
    "ax_intercept = b\n",
    "bx_slope = c\n",
    "bx_intercept = d\n",
    "ay_slope = e\n",
    "ay_intercept = f\n",
    "by_slope = g\n",
    "by_intercept = h"
   ]
  },
  {
   "cell_type": "code",
   "execution_count": 6,
   "metadata": {},
   "outputs": [],
   "source": [
    "equations = [\n",
    "    ax_slope * a_time + ax_intercept - (bx_slope * b_time + bx_intercept),\n",
    "    ay_slope * a_time + ay_intercept - (by_slope * b_time + by_intercept),\n",
    "]"
   ]
  },
  {
   "cell_type": "code",
   "execution_count": 9,
   "metadata": {},
   "outputs": [
    {
     "data": {
      "text/plain": [
       "{x: (-b*g + c*f - c*h + d*g)/(a*g - c*e),\n",
       " y: (a*f - a*h - b*e + d*e)/(a*g - c*e)}"
      ]
     },
     "execution_count": 9,
     "metadata": {},
     "output_type": "execute_result"
    }
   ],
   "source": [
    "(solution,) = solve(equations, (a_time, b_time), dict=True)\n",
    "solution"
   ]
  },
  {
   "cell_type": "code",
   "execution_count": 10,
   "metadata": {},
   "outputs": [],
   "source": [
    "x_solution = solution[a_time]\n",
    "y_solution = solution[b_time]"
   ]
  },
  {
   "cell_type": "code",
   "execution_count": 11,
   "metadata": {},
   "outputs": [],
   "source": [
    "Ax_slope, Ay_slope, Az_slope, Ax_intercept, Ay_intercept, Az_intercept = (\n",
    "    19,\n",
    "    13,\n",
    "    30,\n",
    "    -2,\n",
    "    1,\n",
    "    -2,\n",
    ")\n",
    "Bx_slope, By_slope, Bz_slope, Bx_intercept, By_intercept, Bz_intercept = (\n",
    "    18,\n",
    "    19,\n",
    "    22,\n",
    "    -1,\n",
    "    -1,\n",
    "    -2,\n",
    ")"
   ]
  },
  {
   "cell_type": "code",
   "execution_count": 16,
   "metadata": {},
   "outputs": [
    {
     "data": {
      "text/latex": [
       "$\\displaystyle 0.433070866141732$"
      ],
      "text/plain": [
       "0.433070866141732"
      ]
     },
     "execution_count": 16,
     "metadata": {},
     "output_type": "execute_result"
    }
   ],
   "source": [
    "# Given values of parameters\n",
    "Ax_slope, Ay_slope, Az_slope, Ax_intercept, Ay_intercept, Az_intercept = (\n",
    "    19,\n",
    "    13,\n",
    "    30,\n",
    "    -2,\n",
    "    1,\n",
    "    -2,\n",
    ")\n",
    "Bx_slope, By_slope, Bz_slope, Bx_intercept, By_intercept, Bz_intercept = (\n",
    "    18,\n",
    "    19,\n",
    "    22,\n",
    "    -1,\n",
    "    -1,\n",
    "    -2,\n",
    ")\n",
    "subs = {\n",
    "        ax_slope: Ax_slope,\n",
    "        ay_slope: Ay_slope,\n",
    "        ax_intercept: Ax_intercept,\n",
    "        ay_intercept: Ay_intercept,\n",
    "        bx_slope: Bx_slope,\n",
    "        by_slope: By_slope,\n",
    "        bx_intercept: Bx_intercept,\n",
    "        by_intercept: By_intercept,\n",
    "    }\n",
    "\n",
    "# Substitute parameter values into the solution expression\n",
    "x_solution_numeric = x_solution.subs(\n",
    "    subs\n",
    ")\n",
    "\n",
    "# Calculate the numeric solution\n",
    "x = x_solution_numeric.evalf()\n",
    "x"
   ]
  },
  {
   "cell_type": "code",
   "execution_count": 17,
   "metadata": {},
   "outputs": [
    {
     "data": {
      "text/latex": [
       "$\\displaystyle 0.401574803149606$"
      ],
      "text/plain": [
       "0.401574803149606"
      ]
     },
     "execution_count": 17,
     "metadata": {},
     "output_type": "execute_result"
    }
   ],
   "source": [
    "y_solution_numeric = y_solution.subs(subs)\n",
    "y = y_solution_numeric.evalf()\n",
    "y"
   ]
  },
  {
   "cell_type": "code",
   "execution_count": 20,
   "metadata": {},
   "outputs": [
    {
     "data": {
      "text/plain": [
       "0.4015748031496063"
      ]
     },
     "execution_count": 20,
     "metadata": {},
     "output_type": "execute_result"
    }
   ],
   "source": [
    "float(y)"
   ]
  },
  {
   "cell_type": "code",
   "execution_count": 21,
   "metadata": {},
   "outputs": [
    {
     "data": {
      "text/plain": [
       "0.4330708661417323"
      ]
     },
     "execution_count": 21,
     "metadata": {},
     "output_type": "execute_result"
    }
   ],
   "source": [
    "float(x)"
   ]
  },
  {
   "cell_type": "code",
   "execution_count": null,
   "metadata": {},
   "outputs": [],
   "source": []
  }
 ],
 "metadata": {
  "kernelspec": {
   "display_name": ".venv",
   "language": "python",
   "name": "python3"
  },
  "language_info": {
   "codemirror_mode": {
    "name": "ipython",
    "version": 3
   },
   "file_extension": ".py",
   "mimetype": "text/x-python",
   "name": "python",
   "nbconvert_exporter": "python",
   "pygments_lexer": "ipython3",
   "version": "3.10.12"
  }
 },
 "nbformat": 4,
 "nbformat_minor": 2
}
